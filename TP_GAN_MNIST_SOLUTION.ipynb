{
  "nbformat": 4,
  "nbformat_minor": 0,
  "metadata": {
    "colab": {
      "name": "TP_GAN_MNIST_SOLUTION.ipynb",
      "provenance": [],
      "collapsed_sections": []
    },
    "kernelspec": {
      "name": "python3",
      "display_name": "Python 3"
    },
    "accelerator": "GPU",
    "widgets": {
      "application/vnd.jupyter.widget-state+json": {
        "727f0b2907dd487abf470e8989a02362": {
          "model_module": "@jupyter-widgets/controls",
          "model_name": "HBoxModel",
          "state": {
            "_view_name": "HBoxView",
            "_dom_classes": [],
            "_model_name": "HBoxModel",
            "_view_module": "@jupyter-widgets/controls",
            "_model_module_version": "1.5.0",
            "_view_count": null,
            "_view_module_version": "1.5.0",
            "box_style": "",
            "layout": "IPY_MODEL_31e238e5330d42058f6344ee4874bb5d",
            "_model_module": "@jupyter-widgets/controls",
            "children": [
              "IPY_MODEL_f1ea27830c5b472ca16dcf13619c0e57",
              "IPY_MODEL_33d9e8381123445785dddceb15d2fa7c"
            ]
          }
        },
        "31e238e5330d42058f6344ee4874bb5d": {
          "model_module": "@jupyter-widgets/base",
          "model_name": "LayoutModel",
          "state": {
            "_view_name": "LayoutView",
            "grid_template_rows": null,
            "right": null,
            "justify_content": null,
            "_view_module": "@jupyter-widgets/base",
            "overflow": null,
            "_model_module_version": "1.2.0",
            "_view_count": null,
            "flex_flow": null,
            "width": null,
            "min_width": null,
            "border": null,
            "align_items": null,
            "bottom": null,
            "_model_module": "@jupyter-widgets/base",
            "top": null,
            "grid_column": null,
            "overflow_y": null,
            "overflow_x": null,
            "grid_auto_flow": null,
            "grid_area": null,
            "grid_template_columns": null,
            "flex": null,
            "_model_name": "LayoutModel",
            "justify_items": null,
            "grid_row": null,
            "max_height": null,
            "align_content": null,
            "visibility": null,
            "align_self": null,
            "height": null,
            "min_height": null,
            "padding": null,
            "grid_auto_rows": null,
            "grid_gap": null,
            "max_width": null,
            "order": null,
            "_view_module_version": "1.2.0",
            "grid_template_areas": null,
            "object_position": null,
            "object_fit": null,
            "grid_auto_columns": null,
            "margin": null,
            "display": null,
            "left": null
          }
        },
        "f1ea27830c5b472ca16dcf13619c0e57": {
          "model_module": "@jupyter-widgets/controls",
          "model_name": "IntProgressModel",
          "state": {
            "_view_name": "ProgressView",
            "style": "IPY_MODEL_7749eb77f388483dbe07d85023809247",
            "_dom_classes": [],
            "description": "",
            "_model_name": "IntProgressModel",
            "bar_style": "success",
            "max": 1,
            "_view_module": "@jupyter-widgets/controls",
            "_model_module_version": "1.5.0",
            "value": 1,
            "_view_count": null,
            "_view_module_version": "1.5.0",
            "orientation": "horizontal",
            "min": 0,
            "description_tooltip": null,
            "_model_module": "@jupyter-widgets/controls",
            "layout": "IPY_MODEL_b449d104ae584b1c908e3b78d7a32480"
          }
        },
        "33d9e8381123445785dddceb15d2fa7c": {
          "model_module": "@jupyter-widgets/controls",
          "model_name": "HTMLModel",
          "state": {
            "_view_name": "HTMLView",
            "style": "IPY_MODEL_eef0ae689b64449cba51649ba02b0d0e",
            "_dom_classes": [],
            "description": "",
            "_model_name": "HTMLModel",
            "placeholder": "​",
            "_view_module": "@jupyter-widgets/controls",
            "_model_module_version": "1.5.0",
            "value": "9920512it [00:00, 18594859.70it/s]",
            "_view_count": null,
            "_view_module_version": "1.5.0",
            "description_tooltip": null,
            "_model_module": "@jupyter-widgets/controls",
            "layout": "IPY_MODEL_ab66953fb8374b769553621ed0c20825"
          }
        },
        "7749eb77f388483dbe07d85023809247": {
          "model_module": "@jupyter-widgets/controls",
          "model_name": "ProgressStyleModel",
          "state": {
            "_view_name": "StyleView",
            "_model_name": "ProgressStyleModel",
            "description_width": "",
            "_view_module": "@jupyter-widgets/base",
            "_model_module_version": "1.5.0",
            "_view_count": null,
            "_view_module_version": "1.2.0",
            "bar_color": null,
            "_model_module": "@jupyter-widgets/controls"
          }
        },
        "b449d104ae584b1c908e3b78d7a32480": {
          "model_module": "@jupyter-widgets/base",
          "model_name": "LayoutModel",
          "state": {
            "_view_name": "LayoutView",
            "grid_template_rows": null,
            "right": null,
            "justify_content": null,
            "_view_module": "@jupyter-widgets/base",
            "overflow": null,
            "_model_module_version": "1.2.0",
            "_view_count": null,
            "flex_flow": null,
            "width": null,
            "min_width": null,
            "border": null,
            "align_items": null,
            "bottom": null,
            "_model_module": "@jupyter-widgets/base",
            "top": null,
            "grid_column": null,
            "overflow_y": null,
            "overflow_x": null,
            "grid_auto_flow": null,
            "grid_area": null,
            "grid_template_columns": null,
            "flex": null,
            "_model_name": "LayoutModel",
            "justify_items": null,
            "grid_row": null,
            "max_height": null,
            "align_content": null,
            "visibility": null,
            "align_self": null,
            "height": null,
            "min_height": null,
            "padding": null,
            "grid_auto_rows": null,
            "grid_gap": null,
            "max_width": null,
            "order": null,
            "_view_module_version": "1.2.0",
            "grid_template_areas": null,
            "object_position": null,
            "object_fit": null,
            "grid_auto_columns": null,
            "margin": null,
            "display": null,
            "left": null
          }
        },
        "eef0ae689b64449cba51649ba02b0d0e": {
          "model_module": "@jupyter-widgets/controls",
          "model_name": "DescriptionStyleModel",
          "state": {
            "_view_name": "StyleView",
            "_model_name": "DescriptionStyleModel",
            "description_width": "",
            "_view_module": "@jupyter-widgets/base",
            "_model_module_version": "1.5.0",
            "_view_count": null,
            "_view_module_version": "1.2.0",
            "_model_module": "@jupyter-widgets/controls"
          }
        },
        "ab66953fb8374b769553621ed0c20825": {
          "model_module": "@jupyter-widgets/base",
          "model_name": "LayoutModel",
          "state": {
            "_view_name": "LayoutView",
            "grid_template_rows": null,
            "right": null,
            "justify_content": null,
            "_view_module": "@jupyter-widgets/base",
            "overflow": null,
            "_model_module_version": "1.2.0",
            "_view_count": null,
            "flex_flow": null,
            "width": null,
            "min_width": null,
            "border": null,
            "align_items": null,
            "bottom": null,
            "_model_module": "@jupyter-widgets/base",
            "top": null,
            "grid_column": null,
            "overflow_y": null,
            "overflow_x": null,
            "grid_auto_flow": null,
            "grid_area": null,
            "grid_template_columns": null,
            "flex": null,
            "_model_name": "LayoutModel",
            "justify_items": null,
            "grid_row": null,
            "max_height": null,
            "align_content": null,
            "visibility": null,
            "align_self": null,
            "height": null,
            "min_height": null,
            "padding": null,
            "grid_auto_rows": null,
            "grid_gap": null,
            "max_width": null,
            "order": null,
            "_view_module_version": "1.2.0",
            "grid_template_areas": null,
            "object_position": null,
            "object_fit": null,
            "grid_auto_columns": null,
            "margin": null,
            "display": null,
            "left": null
          }
        },
        "99052470e7934648be51770f57fd5ca6": {
          "model_module": "@jupyter-widgets/controls",
          "model_name": "HBoxModel",
          "state": {
            "_view_name": "HBoxView",
            "_dom_classes": [],
            "_model_name": "HBoxModel",
            "_view_module": "@jupyter-widgets/controls",
            "_model_module_version": "1.5.0",
            "_view_count": null,
            "_view_module_version": "1.5.0",
            "box_style": "",
            "layout": "IPY_MODEL_07fee96e7ce74b6e821f9eafbd3724ee",
            "_model_module": "@jupyter-widgets/controls",
            "children": [
              "IPY_MODEL_a35d7c6e412c496ca02628b94555d9c0",
              "IPY_MODEL_58e9a7dcdfea44f48a3a1b4f0e4b077a"
            ]
          }
        },
        "07fee96e7ce74b6e821f9eafbd3724ee": {
          "model_module": "@jupyter-widgets/base",
          "model_name": "LayoutModel",
          "state": {
            "_view_name": "LayoutView",
            "grid_template_rows": null,
            "right": null,
            "justify_content": null,
            "_view_module": "@jupyter-widgets/base",
            "overflow": null,
            "_model_module_version": "1.2.0",
            "_view_count": null,
            "flex_flow": null,
            "width": null,
            "min_width": null,
            "border": null,
            "align_items": null,
            "bottom": null,
            "_model_module": "@jupyter-widgets/base",
            "top": null,
            "grid_column": null,
            "overflow_y": null,
            "overflow_x": null,
            "grid_auto_flow": null,
            "grid_area": null,
            "grid_template_columns": null,
            "flex": null,
            "_model_name": "LayoutModel",
            "justify_items": null,
            "grid_row": null,
            "max_height": null,
            "align_content": null,
            "visibility": null,
            "align_self": null,
            "height": null,
            "min_height": null,
            "padding": null,
            "grid_auto_rows": null,
            "grid_gap": null,
            "max_width": null,
            "order": null,
            "_view_module_version": "1.2.0",
            "grid_template_areas": null,
            "object_position": null,
            "object_fit": null,
            "grid_auto_columns": null,
            "margin": null,
            "display": null,
            "left": null
          }
        },
        "a35d7c6e412c496ca02628b94555d9c0": {
          "model_module": "@jupyter-widgets/controls",
          "model_name": "IntProgressModel",
          "state": {
            "_view_name": "ProgressView",
            "style": "IPY_MODEL_1c2c17a491344edea2f813ad602e8a46",
            "_dom_classes": [],
            "description": "",
            "_model_name": "IntProgressModel",
            "bar_style": "success",
            "max": 1,
            "_view_module": "@jupyter-widgets/controls",
            "_model_module_version": "1.5.0",
            "value": 1,
            "_view_count": null,
            "_view_module_version": "1.5.0",
            "orientation": "horizontal",
            "min": 0,
            "description_tooltip": null,
            "_model_module": "@jupyter-widgets/controls",
            "layout": "IPY_MODEL_9648f51ea4f44f0abc99e2bb995eeb49"
          }
        },
        "58e9a7dcdfea44f48a3a1b4f0e4b077a": {
          "model_module": "@jupyter-widgets/controls",
          "model_name": "HTMLModel",
          "state": {
            "_view_name": "HTMLView",
            "style": "IPY_MODEL_ff59ff2131f84454b61900d4042b6375",
            "_dom_classes": [],
            "description": "",
            "_model_name": "HTMLModel",
            "placeholder": "​",
            "_view_module": "@jupyter-widgets/controls",
            "_model_module_version": "1.5.0",
            "value": "32768it [00:00, 256730.17it/s]",
            "_view_count": null,
            "_view_module_version": "1.5.0",
            "description_tooltip": null,
            "_model_module": "@jupyter-widgets/controls",
            "layout": "IPY_MODEL_ac8a955db97a4a789e8590a405e1fa05"
          }
        },
        "1c2c17a491344edea2f813ad602e8a46": {
          "model_module": "@jupyter-widgets/controls",
          "model_name": "ProgressStyleModel",
          "state": {
            "_view_name": "StyleView",
            "_model_name": "ProgressStyleModel",
            "description_width": "",
            "_view_module": "@jupyter-widgets/base",
            "_model_module_version": "1.5.0",
            "_view_count": null,
            "_view_module_version": "1.2.0",
            "bar_color": null,
            "_model_module": "@jupyter-widgets/controls"
          }
        },
        "9648f51ea4f44f0abc99e2bb995eeb49": {
          "model_module": "@jupyter-widgets/base",
          "model_name": "LayoutModel",
          "state": {
            "_view_name": "LayoutView",
            "grid_template_rows": null,
            "right": null,
            "justify_content": null,
            "_view_module": "@jupyter-widgets/base",
            "overflow": null,
            "_model_module_version": "1.2.0",
            "_view_count": null,
            "flex_flow": null,
            "width": null,
            "min_width": null,
            "border": null,
            "align_items": null,
            "bottom": null,
            "_model_module": "@jupyter-widgets/base",
            "top": null,
            "grid_column": null,
            "overflow_y": null,
            "overflow_x": null,
            "grid_auto_flow": null,
            "grid_area": null,
            "grid_template_columns": null,
            "flex": null,
            "_model_name": "LayoutModel",
            "justify_items": null,
            "grid_row": null,
            "max_height": null,
            "align_content": null,
            "visibility": null,
            "align_self": null,
            "height": null,
            "min_height": null,
            "padding": null,
            "grid_auto_rows": null,
            "grid_gap": null,
            "max_width": null,
            "order": null,
            "_view_module_version": "1.2.0",
            "grid_template_areas": null,
            "object_position": null,
            "object_fit": null,
            "grid_auto_columns": null,
            "margin": null,
            "display": null,
            "left": null
          }
        },
        "ff59ff2131f84454b61900d4042b6375": {
          "model_module": "@jupyter-widgets/controls",
          "model_name": "DescriptionStyleModel",
          "state": {
            "_view_name": "StyleView",
            "_model_name": "DescriptionStyleModel",
            "description_width": "",
            "_view_module": "@jupyter-widgets/base",
            "_model_module_version": "1.5.0",
            "_view_count": null,
            "_view_module_version": "1.2.0",
            "_model_module": "@jupyter-widgets/controls"
          }
        },
        "ac8a955db97a4a789e8590a405e1fa05": {
          "model_module": "@jupyter-widgets/base",
          "model_name": "LayoutModel",
          "state": {
            "_view_name": "LayoutView",
            "grid_template_rows": null,
            "right": null,
            "justify_content": null,
            "_view_module": "@jupyter-widgets/base",
            "overflow": null,
            "_model_module_version": "1.2.0",
            "_view_count": null,
            "flex_flow": null,
            "width": null,
            "min_width": null,
            "border": null,
            "align_items": null,
            "bottom": null,
            "_model_module": "@jupyter-widgets/base",
            "top": null,
            "grid_column": null,
            "overflow_y": null,
            "overflow_x": null,
            "grid_auto_flow": null,
            "grid_area": null,
            "grid_template_columns": null,
            "flex": null,
            "_model_name": "LayoutModel",
            "justify_items": null,
            "grid_row": null,
            "max_height": null,
            "align_content": null,
            "visibility": null,
            "align_self": null,
            "height": null,
            "min_height": null,
            "padding": null,
            "grid_auto_rows": null,
            "grid_gap": null,
            "max_width": null,
            "order": null,
            "_view_module_version": "1.2.0",
            "grid_template_areas": null,
            "object_position": null,
            "object_fit": null,
            "grid_auto_columns": null,
            "margin": null,
            "display": null,
            "left": null
          }
        },
        "ccd9ab74b72a4e34a7c016e9633c3b18": {
          "model_module": "@jupyter-widgets/controls",
          "model_name": "HBoxModel",
          "state": {
            "_view_name": "HBoxView",
            "_dom_classes": [],
            "_model_name": "HBoxModel",
            "_view_module": "@jupyter-widgets/controls",
            "_model_module_version": "1.5.0",
            "_view_count": null,
            "_view_module_version": "1.5.0",
            "box_style": "",
            "layout": "IPY_MODEL_1fe9fd4a97374b84a1a874c2e54ed942",
            "_model_module": "@jupyter-widgets/controls",
            "children": [
              "IPY_MODEL_47f2f9a8dce947d7b4321da42e07f0ab",
              "IPY_MODEL_a6fe38bf8ed54d2eb2b188eaa79a019d"
            ]
          }
        },
        "1fe9fd4a97374b84a1a874c2e54ed942": {
          "model_module": "@jupyter-widgets/base",
          "model_name": "LayoutModel",
          "state": {
            "_view_name": "LayoutView",
            "grid_template_rows": null,
            "right": null,
            "justify_content": null,
            "_view_module": "@jupyter-widgets/base",
            "overflow": null,
            "_model_module_version": "1.2.0",
            "_view_count": null,
            "flex_flow": null,
            "width": null,
            "min_width": null,
            "border": null,
            "align_items": null,
            "bottom": null,
            "_model_module": "@jupyter-widgets/base",
            "top": null,
            "grid_column": null,
            "overflow_y": null,
            "overflow_x": null,
            "grid_auto_flow": null,
            "grid_area": null,
            "grid_template_columns": null,
            "flex": null,
            "_model_name": "LayoutModel",
            "justify_items": null,
            "grid_row": null,
            "max_height": null,
            "align_content": null,
            "visibility": null,
            "align_self": null,
            "height": null,
            "min_height": null,
            "padding": null,
            "grid_auto_rows": null,
            "grid_gap": null,
            "max_width": null,
            "order": null,
            "_view_module_version": "1.2.0",
            "grid_template_areas": null,
            "object_position": null,
            "object_fit": null,
            "grid_auto_columns": null,
            "margin": null,
            "display": null,
            "left": null
          }
        },
        "47f2f9a8dce947d7b4321da42e07f0ab": {
          "model_module": "@jupyter-widgets/controls",
          "model_name": "IntProgressModel",
          "state": {
            "_view_name": "ProgressView",
            "style": "IPY_MODEL_379f5aac6235463db55d07595a08d0a7",
            "_dom_classes": [],
            "description": "",
            "_model_name": "IntProgressModel",
            "bar_style": "success",
            "max": 1,
            "_view_module": "@jupyter-widgets/controls",
            "_model_module_version": "1.5.0",
            "value": 1,
            "_view_count": null,
            "_view_module_version": "1.5.0",
            "orientation": "horizontal",
            "min": 0,
            "description_tooltip": null,
            "_model_module": "@jupyter-widgets/controls",
            "layout": "IPY_MODEL_3cb2d7a8413e4245a02276ab543a4858"
          }
        },
        "a6fe38bf8ed54d2eb2b188eaa79a019d": {
          "model_module": "@jupyter-widgets/controls",
          "model_name": "HTMLModel",
          "state": {
            "_view_name": "HTMLView",
            "style": "IPY_MODEL_7310d1249a854df2afc4fe7de3803608",
            "_dom_classes": [],
            "description": "",
            "_model_name": "HTMLModel",
            "placeholder": "​",
            "_view_module": "@jupyter-widgets/controls",
            "_model_module_version": "1.5.0",
            "value": "1654784it [00:00, 4973969.54it/s]",
            "_view_count": null,
            "_view_module_version": "1.5.0",
            "description_tooltip": null,
            "_model_module": "@jupyter-widgets/controls",
            "layout": "IPY_MODEL_7a415d5132b34dfcb93a6d45c110ea18"
          }
        },
        "379f5aac6235463db55d07595a08d0a7": {
          "model_module": "@jupyter-widgets/controls",
          "model_name": "ProgressStyleModel",
          "state": {
            "_view_name": "StyleView",
            "_model_name": "ProgressStyleModel",
            "description_width": "",
            "_view_module": "@jupyter-widgets/base",
            "_model_module_version": "1.5.0",
            "_view_count": null,
            "_view_module_version": "1.2.0",
            "bar_color": null,
            "_model_module": "@jupyter-widgets/controls"
          }
        },
        "3cb2d7a8413e4245a02276ab543a4858": {
          "model_module": "@jupyter-widgets/base",
          "model_name": "LayoutModel",
          "state": {
            "_view_name": "LayoutView",
            "grid_template_rows": null,
            "right": null,
            "justify_content": null,
            "_view_module": "@jupyter-widgets/base",
            "overflow": null,
            "_model_module_version": "1.2.0",
            "_view_count": null,
            "flex_flow": null,
            "width": null,
            "min_width": null,
            "border": null,
            "align_items": null,
            "bottom": null,
            "_model_module": "@jupyter-widgets/base",
            "top": null,
            "grid_column": null,
            "overflow_y": null,
            "overflow_x": null,
            "grid_auto_flow": null,
            "grid_area": null,
            "grid_template_columns": null,
            "flex": null,
            "_model_name": "LayoutModel",
            "justify_items": null,
            "grid_row": null,
            "max_height": null,
            "align_content": null,
            "visibility": null,
            "align_self": null,
            "height": null,
            "min_height": null,
            "padding": null,
            "grid_auto_rows": null,
            "grid_gap": null,
            "max_width": null,
            "order": null,
            "_view_module_version": "1.2.0",
            "grid_template_areas": null,
            "object_position": null,
            "object_fit": null,
            "grid_auto_columns": null,
            "margin": null,
            "display": null,
            "left": null
          }
        },
        "7310d1249a854df2afc4fe7de3803608": {
          "model_module": "@jupyter-widgets/controls",
          "model_name": "DescriptionStyleModel",
          "state": {
            "_view_name": "StyleView",
            "_model_name": "DescriptionStyleModel",
            "description_width": "",
            "_view_module": "@jupyter-widgets/base",
            "_model_module_version": "1.5.0",
            "_view_count": null,
            "_view_module_version": "1.2.0",
            "_model_module": "@jupyter-widgets/controls"
          }
        },
        "7a415d5132b34dfcb93a6d45c110ea18": {
          "model_module": "@jupyter-widgets/base",
          "model_name": "LayoutModel",
          "state": {
            "_view_name": "LayoutView",
            "grid_template_rows": null,
            "right": null,
            "justify_content": null,
            "_view_module": "@jupyter-widgets/base",
            "overflow": null,
            "_model_module_version": "1.2.0",
            "_view_count": null,
            "flex_flow": null,
            "width": null,
            "min_width": null,
            "border": null,
            "align_items": null,
            "bottom": null,
            "_model_module": "@jupyter-widgets/base",
            "top": null,
            "grid_column": null,
            "overflow_y": null,
            "overflow_x": null,
            "grid_auto_flow": null,
            "grid_area": null,
            "grid_template_columns": null,
            "flex": null,
            "_model_name": "LayoutModel",
            "justify_items": null,
            "grid_row": null,
            "max_height": null,
            "align_content": null,
            "visibility": null,
            "align_self": null,
            "height": null,
            "min_height": null,
            "padding": null,
            "grid_auto_rows": null,
            "grid_gap": null,
            "max_width": null,
            "order": null,
            "_view_module_version": "1.2.0",
            "grid_template_areas": null,
            "object_position": null,
            "object_fit": null,
            "grid_auto_columns": null,
            "margin": null,
            "display": null,
            "left": null
          }
        },
        "c954a79ef8894ccb86fc25f4e1362ffc": {
          "model_module": "@jupyter-widgets/controls",
          "model_name": "HBoxModel",
          "state": {
            "_view_name": "HBoxView",
            "_dom_classes": [],
            "_model_name": "HBoxModel",
            "_view_module": "@jupyter-widgets/controls",
            "_model_module_version": "1.5.0",
            "_view_count": null,
            "_view_module_version": "1.5.0",
            "box_style": "",
            "layout": "IPY_MODEL_d480e4d286ff469c848d47a9ea426975",
            "_model_module": "@jupyter-widgets/controls",
            "children": [
              "IPY_MODEL_f4095fa1fcf74d0aa025c8800d2e3f0c",
              "IPY_MODEL_9da09bdc23b24b81a7cb380110f182cb"
            ]
          }
        },
        "d480e4d286ff469c848d47a9ea426975": {
          "model_module": "@jupyter-widgets/base",
          "model_name": "LayoutModel",
          "state": {
            "_view_name": "LayoutView",
            "grid_template_rows": null,
            "right": null,
            "justify_content": null,
            "_view_module": "@jupyter-widgets/base",
            "overflow": null,
            "_model_module_version": "1.2.0",
            "_view_count": null,
            "flex_flow": null,
            "width": null,
            "min_width": null,
            "border": null,
            "align_items": null,
            "bottom": null,
            "_model_module": "@jupyter-widgets/base",
            "top": null,
            "grid_column": null,
            "overflow_y": null,
            "overflow_x": null,
            "grid_auto_flow": null,
            "grid_area": null,
            "grid_template_columns": null,
            "flex": null,
            "_model_name": "LayoutModel",
            "justify_items": null,
            "grid_row": null,
            "max_height": null,
            "align_content": null,
            "visibility": null,
            "align_self": null,
            "height": null,
            "min_height": null,
            "padding": null,
            "grid_auto_rows": null,
            "grid_gap": null,
            "max_width": null,
            "order": null,
            "_view_module_version": "1.2.0",
            "grid_template_areas": null,
            "object_position": null,
            "object_fit": null,
            "grid_auto_columns": null,
            "margin": null,
            "display": null,
            "left": null
          }
        },
        "f4095fa1fcf74d0aa025c8800d2e3f0c": {
          "model_module": "@jupyter-widgets/controls",
          "model_name": "IntProgressModel",
          "state": {
            "_view_name": "ProgressView",
            "style": "IPY_MODEL_26c6a0881db84213acb65f1af9d8e53f",
            "_dom_classes": [],
            "description": "",
            "_model_name": "IntProgressModel",
            "bar_style": "success",
            "max": 1,
            "_view_module": "@jupyter-widgets/controls",
            "_model_module_version": "1.5.0",
            "value": 1,
            "_view_count": null,
            "_view_module_version": "1.5.0",
            "orientation": "horizontal",
            "min": 0,
            "description_tooltip": null,
            "_model_module": "@jupyter-widgets/controls",
            "layout": "IPY_MODEL_2c55e53439ad4b3abbbffb90a96c0439"
          }
        },
        "9da09bdc23b24b81a7cb380110f182cb": {
          "model_module": "@jupyter-widgets/controls",
          "model_name": "HTMLModel",
          "state": {
            "_view_name": "HTMLView",
            "style": "IPY_MODEL_b0b7deee6a134964b3eecd33420bfea6",
            "_dom_classes": [],
            "description": "",
            "_model_name": "HTMLModel",
            "placeholder": "​",
            "_view_module": "@jupyter-widgets/controls",
            "_model_module_version": "1.5.0",
            "value": "8192it [00:00, 85905.14it/s]",
            "_view_count": null,
            "_view_module_version": "1.5.0",
            "description_tooltip": null,
            "_model_module": "@jupyter-widgets/controls",
            "layout": "IPY_MODEL_92c2f0d2edd444ba83a85ff6699c247b"
          }
        },
        "26c6a0881db84213acb65f1af9d8e53f": {
          "model_module": "@jupyter-widgets/controls",
          "model_name": "ProgressStyleModel",
          "state": {
            "_view_name": "StyleView",
            "_model_name": "ProgressStyleModel",
            "description_width": "",
            "_view_module": "@jupyter-widgets/base",
            "_model_module_version": "1.5.0",
            "_view_count": null,
            "_view_module_version": "1.2.0",
            "bar_color": null,
            "_model_module": "@jupyter-widgets/controls"
          }
        },
        "2c55e53439ad4b3abbbffb90a96c0439": {
          "model_module": "@jupyter-widgets/base",
          "model_name": "LayoutModel",
          "state": {
            "_view_name": "LayoutView",
            "grid_template_rows": null,
            "right": null,
            "justify_content": null,
            "_view_module": "@jupyter-widgets/base",
            "overflow": null,
            "_model_module_version": "1.2.0",
            "_view_count": null,
            "flex_flow": null,
            "width": null,
            "min_width": null,
            "border": null,
            "align_items": null,
            "bottom": null,
            "_model_module": "@jupyter-widgets/base",
            "top": null,
            "grid_column": null,
            "overflow_y": null,
            "overflow_x": null,
            "grid_auto_flow": null,
            "grid_area": null,
            "grid_template_columns": null,
            "flex": null,
            "_model_name": "LayoutModel",
            "justify_items": null,
            "grid_row": null,
            "max_height": null,
            "align_content": null,
            "visibility": null,
            "align_self": null,
            "height": null,
            "min_height": null,
            "padding": null,
            "grid_auto_rows": null,
            "grid_gap": null,
            "max_width": null,
            "order": null,
            "_view_module_version": "1.2.0",
            "grid_template_areas": null,
            "object_position": null,
            "object_fit": null,
            "grid_auto_columns": null,
            "margin": null,
            "display": null,
            "left": null
          }
        },
        "b0b7deee6a134964b3eecd33420bfea6": {
          "model_module": "@jupyter-widgets/controls",
          "model_name": "DescriptionStyleModel",
          "state": {
            "_view_name": "StyleView",
            "_model_name": "DescriptionStyleModel",
            "description_width": "",
            "_view_module": "@jupyter-widgets/base",
            "_model_module_version": "1.5.0",
            "_view_count": null,
            "_view_module_version": "1.2.0",
            "_model_module": "@jupyter-widgets/controls"
          }
        },
        "92c2f0d2edd444ba83a85ff6699c247b": {
          "model_module": "@jupyter-widgets/base",
          "model_name": "LayoutModel",
          "state": {
            "_view_name": "LayoutView",
            "grid_template_rows": null,
            "right": null,
            "justify_content": null,
            "_view_module": "@jupyter-widgets/base",
            "overflow": null,
            "_model_module_version": "1.2.0",
            "_view_count": null,
            "flex_flow": null,
            "width": null,
            "min_width": null,
            "border": null,
            "align_items": null,
            "bottom": null,
            "_model_module": "@jupyter-widgets/base",
            "top": null,
            "grid_column": null,
            "overflow_y": null,
            "overflow_x": null,
            "grid_auto_flow": null,
            "grid_area": null,
            "grid_template_columns": null,
            "flex": null,
            "_model_name": "LayoutModel",
            "justify_items": null,
            "grid_row": null,
            "max_height": null,
            "align_content": null,
            "visibility": null,
            "align_self": null,
            "height": null,
            "min_height": null,
            "padding": null,
            "grid_auto_rows": null,
            "grid_gap": null,
            "max_width": null,
            "order": null,
            "_view_module_version": "1.2.0",
            "grid_template_areas": null,
            "object_position": null,
            "object_fit": null,
            "grid_auto_columns": null,
            "margin": null,
            "display": null,
            "left": null
          }
        }
      }
    }
  },
  "cells": [
    {
      "cell_type": "markdown",
      "metadata": {
        "id": "1QdOFUtMgZ6m",
        "colab_type": "text"
      },
      "source": [
        "# Generative Advesarial Network Explained\n",
        "\n",
        "For this exercice, We will create and train the Discriminator and our Generator. \n",
        "\n",
        "The purpose of this practice is to generate MNIST number. "
      ]
    },
    {
      "cell_type": "code",
      "metadata": {
        "id": "xCNsFTavRttT",
        "colab_type": "code",
        "colab": {}
      },
      "source": [
        "import numpy as np\n",
        "import matplotlib.pyplot as plt\n",
        "import torch\n",
        "import torch.nn as nn\n",
        "import torch.optim as optim\n",
        "from torch.autograd import Variable\n",
        "from torch.utils import data as dset\n",
        "import torchvision.datasets as datasets\n",
        "from torchvision import transforms\n",
        "from tqdm import tqdm_notebook"
      ],
      "execution_count": 0,
      "outputs": []
    },
    {
      "cell_type": "code",
      "metadata": {
        "id": "xgdhhRyfSBP9",
        "colab_type": "code",
        "colab": {}
      },
      "source": [
        "#Intialize basic trainig parameters\n",
        "BATCH_SIZE= 64\n",
        "\n",
        "PRINTING_STEP = 100    # Number of itteration between each print.\n",
        "\n",
        "EPOCHS = 3             # A number between 0 and 10 \n",
        "\n",
        "NZ = 100               # Lattent vector size for the generator, this is the number of features of our Generator. \n",
        "\n",
        "TRUE_LABEL = 1\n",
        "FALSE_LABEL = 0\n",
        "\n",
        "device = torch.device(\"cuda:0\" if (torch.cuda.is_available()) else \"cpu\")   # Variable aimed to take advatage of the Colab's GTX 1060 :)"
      ],
      "execution_count": 0,
      "outputs": []
    },
    {
      "cell_type": "code",
      "metadata": {
        "id": "lNawVy2zTI0j",
        "colab_type": "code",
        "colab": {
          "base_uri": "https://localhost:8080/",
          "height": 395,
          "referenced_widgets": [
            "727f0b2907dd487abf470e8989a02362",
            "31e238e5330d42058f6344ee4874bb5d",
            "f1ea27830c5b472ca16dcf13619c0e57",
            "33d9e8381123445785dddceb15d2fa7c",
            "7749eb77f388483dbe07d85023809247",
            "b449d104ae584b1c908e3b78d7a32480",
            "eef0ae689b64449cba51649ba02b0d0e",
            "ab66953fb8374b769553621ed0c20825",
            "99052470e7934648be51770f57fd5ca6",
            "07fee96e7ce74b6e821f9eafbd3724ee",
            "a35d7c6e412c496ca02628b94555d9c0",
            "58e9a7dcdfea44f48a3a1b4f0e4b077a",
            "1c2c17a491344edea2f813ad602e8a46",
            "9648f51ea4f44f0abc99e2bb995eeb49",
            "ff59ff2131f84454b61900d4042b6375",
            "ac8a955db97a4a789e8590a405e1fa05",
            "ccd9ab74b72a4e34a7c016e9633c3b18",
            "1fe9fd4a97374b84a1a874c2e54ed942",
            "47f2f9a8dce947d7b4321da42e07f0ab",
            "a6fe38bf8ed54d2eb2b188eaa79a019d",
            "379f5aac6235463db55d07595a08d0a7",
            "3cb2d7a8413e4245a02276ab543a4858",
            "7310d1249a854df2afc4fe7de3803608",
            "7a415d5132b34dfcb93a6d45c110ea18",
            "c954a79ef8894ccb86fc25f4e1362ffc",
            "d480e4d286ff469c848d47a9ea426975",
            "f4095fa1fcf74d0aa025c8800d2e3f0c",
            "9da09bdc23b24b81a7cb380110f182cb",
            "26c6a0881db84213acb65f1af9d8e53f",
            "2c55e53439ad4b3abbbffb90a96c0439",
            "b0b7deee6a134964b3eecd33420bfea6",
            "92c2f0d2edd444ba83a85ff6699c247b"
          ]
        },
        "outputId": "6919b83e-cbeb-418f-d88f-6258e0927489"
      },
      "source": [
        "data_transforms = transforms.Compose([transforms.ToTensor()])\n",
        "\n",
        "mnist_trainset = datasets.MNIST(root='./data', train=True, download=True, transform=data_transforms)\n",
        "\n",
        "dataloader_mnist_train = dset.DataLoader(mnist_trainset,  batch_size=BATCH_SIZE, shuffle=True)"
      ],
      "execution_count": 4,
      "outputs": [
        {
          "output_type": "stream",
          "text": [
            "Downloading http://yann.lecun.com/exdb/mnist/train-images-idx3-ubyte.gz to ./data/MNIST/raw/train-images-idx3-ubyte.gz\n"
          ],
          "name": "stdout"
        },
        {
          "output_type": "display_data",
          "data": {
            "application/vnd.jupyter.widget-view+json": {
              "model_id": "727f0b2907dd487abf470e8989a02362",
              "version_minor": 0,
              "version_major": 2
            },
            "text/plain": [
              "HBox(children=(IntProgress(value=1, bar_style='info', max=1), HTML(value='')))"
            ]
          },
          "metadata": {
            "tags": []
          }
        },
        {
          "output_type": "stream",
          "text": [
            "\n",
            "Extracting ./data/MNIST/raw/train-images-idx3-ubyte.gz to ./data/MNIST/raw\n",
            "Downloading http://yann.lecun.com/exdb/mnist/train-labels-idx1-ubyte.gz to ./data/MNIST/raw/train-labels-idx1-ubyte.gz\n"
          ],
          "name": "stdout"
        },
        {
          "output_type": "display_data",
          "data": {
            "application/vnd.jupyter.widget-view+json": {
              "model_id": "99052470e7934648be51770f57fd5ca6",
              "version_minor": 0,
              "version_major": 2
            },
            "text/plain": [
              "HBox(children=(IntProgress(value=1, bar_style='info', max=1), HTML(value='')))"
            ]
          },
          "metadata": {
            "tags": []
          }
        },
        {
          "output_type": "stream",
          "text": [
            "\n",
            "Extracting ./data/MNIST/raw/train-labels-idx1-ubyte.gz to ./data/MNIST/raw\n",
            "Downloading http://yann.lecun.com/exdb/mnist/t10k-images-idx3-ubyte.gz to ./data/MNIST/raw/t10k-images-idx3-ubyte.gz\n"
          ],
          "name": "stdout"
        },
        {
          "output_type": "display_data",
          "data": {
            "application/vnd.jupyter.widget-view+json": {
              "model_id": "ccd9ab74b72a4e34a7c016e9633c3b18",
              "version_minor": 0,
              "version_major": 2
            },
            "text/plain": [
              "HBox(children=(IntProgress(value=1, bar_style='info', max=1), HTML(value='')))"
            ]
          },
          "metadata": {
            "tags": []
          }
        },
        {
          "output_type": "stream",
          "text": [
            "\n",
            "Extracting ./data/MNIST/raw/t10k-images-idx3-ubyte.gz to ./data/MNIST/raw\n",
            "Downloading http://yann.lecun.com/exdb/mnist/t10k-labels-idx1-ubyte.gz to ./data/MNIST/raw/t10k-labels-idx1-ubyte.gz\n"
          ],
          "name": "stdout"
        },
        {
          "output_type": "display_data",
          "data": {
            "application/vnd.jupyter.widget-view+json": {
              "model_id": "c954a79ef8894ccb86fc25f4e1362ffc",
              "version_minor": 0,
              "version_major": 2
            },
            "text/plain": [
              "HBox(children=(IntProgress(value=1, bar_style='info', max=1), HTML(value='')))"
            ]
          },
          "metadata": {
            "tags": []
          }
        },
        {
          "output_type": "stream",
          "text": [
            "\n",
            "Extracting ./data/MNIST/raw/t10k-labels-idx1-ubyte.gz to ./data/MNIST/raw\n",
            "Processing...\n",
            "Done!\n"
          ],
          "name": "stdout"
        }
      ]
    },
    {
      "cell_type": "markdown",
      "metadata": {
        "id": "1xHPW30rhUbv",
        "colab_type": "text"
      },
      "source": [
        "## Show a dataset image"
      ]
    },
    {
      "cell_type": "code",
      "metadata": {
        "id": "BMldBQckTmcj",
        "colab_type": "code",
        "outputId": "1165c49a-9cc5-438b-da30-626d7a9a388d",
        "colab": {
          "base_uri": "https://localhost:8080/",
          "height": 133
        }
      },
      "source": [
        "def plot_img(array,number=None):\n",
        "    array = array.detach()\n",
        "    array = array.reshape(array.shape[0],28,28)\n",
        "    fig = plt.figure()\n",
        "    for i in range(3):\n",
        "      plt.subplot(130+i+1)\n",
        "      plt.imshow(array[i],cmap='binary')\n",
        "      plt.xticks([])\n",
        "      plt.yticks([])\n",
        "      if number:\n",
        "          plt.xlabel(number,fontsize='x-large')\n",
        "    plt.show()\n",
        "    \n",
        "image = next(iter( dataloader_mnist_train ))[0]\n",
        "plot_img(image)"
      ],
      "execution_count": 5,
      "outputs": [
        {
          "output_type": "display_data",
          "data": {
            "image/png": "[encoded data removed]",
            "text/plain": [
              "<Figure size 432x288 with 3 Axes>"
            ]
          },
          "metadata": {
            "tags": []
          }
        }
      ]
    },
    {
      "cell_type": "code",
      "metadata": {
        "id": "J6rhlACOTheq",
        "colab_type": "code",
        "colab": {}
      },
      "source": [
        "# defining generator class\n",
        "class Generator(nn.Module):\n",
        "    \n",
        "    def __init__(self, inp, out):\n",
        "        \n",
        "        super(Generator, self).__init__()\n",
        "        self.net = nn.Sequential(nn.Linear(inp,300),\n",
        "                                 nn.ReLU(inplace=True),\n",
        "                                 nn.Linear(300,1000),\n",
        "                                 nn.ReLU(inplace=True),\n",
        "                                 nn.Linear(1000,800),\n",
        "                                 nn.ReLU(inplace=True),\n",
        "                                 nn.Linear(800,out))\n",
        "        \n",
        "    def forward(self, x):\n",
        "        x = self.net(x)\n",
        "        return x\n",
        "\n",
        "# Aimed to introduce a random initialisation to our network. See bellow to know why.\n",
        "def weights_init(m):\n",
        "    classname = m.__class__.__name__\n",
        "    if classname.find('Conv') != -1:\n",
        "        nn.init.normal_(m.weight.data, 0.0, 0.02)\n",
        "    elif classname.find('BatchNorm') != -1:\n",
        "        nn.init.normal_(m.weight.data, 1.0, 0.02)\n",
        "        nn.init.constant_(m.bias.data, 0)"
      ],
      "execution_count": 0,
      "outputs": []
    },
    {
      "cell_type": "code",
      "metadata": {
        "id": "vYKfT_1pTmEv",
        "colab_type": "code",
        "colab": {}
      },
      "source": [
        "# defining discriminator class\n",
        "class Discriminator(nn.Module):\n",
        "    def __init__(self, inp, out):\n",
        "        super(Discriminator, self).__init__()\n",
        "        \n",
        "        self.net = nn.Sequential(nn.Linear(inp,600),\n",
        "                                 nn.ReLU(inplace=True),\n",
        "                                 nn.Linear(600,300),\n",
        "                                 nn.ReLU(inplace=True),\n",
        "                                 nn.Linear(300,300),\n",
        "                                 nn.ReLU(inplace=True),\n",
        "                                 nn.Linear(300,200),\n",
        "                                 nn.ReLU(inplace=True),\n",
        "                                 nn.Linear(200,out),\n",
        "                                 nn.Sigmoid() )\n",
        "        \n",
        "    def forward(self, x):\n",
        "        x = self.net(x)\n",
        "        return x\n",
        "\n"
      ],
      "execution_count": 0,
      "outputs": []
    },
    {
      "cell_type": "code",
      "metadata": {
        "id": "F_zu9dSuTohS",
        "colab_type": "code",
        "colab": {}
      },
      "source": [
        "# In this case we got 2 models, Therefore we have to load 2 optimizers. \n",
        "# We load our two models\n",
        "# We apply a random initialisation to our Generator's weights. It's help a lot \n",
        "# the Generator to create good images.\n",
        "\n",
        "\n",
        "dis = Discriminator(28*28, 1).to(device)     # inp is the size of image, out is the output of our classification. Remember, it's a Binary classification !\n",
        "gen = Generator(100, 28*28).to(device)\n",
        "gen.apply(weights_init) # Try to uncoment this line and retrain all models from scratch ;) \n",
        "\n",
        "loss_func = nn.BCELoss().to(device)           #Binary cosentropy loss \n",
        "dis_optim = optim.Adam(dis.parameters())\n",
        "\n",
        "gen_optim = optim.Adam(gen.parameters())"
      ],
      "execution_count": 0,
      "outputs": []
    },
    {
      "cell_type": "markdown",
      "metadata": {
        "id": "xbeBbSPdgYij",
        "colab_type": "text"
      },
      "source": [
        "## It's finally time to train !\n",
        "\n",
        "We have 2 networks to train in the same time. The training loop will be slightely different:\n",
        "* Firstly : We will train the Discriminator Parameters.\n",
        "  * We will **train** the discriminator with **real images**\n",
        "  * After that, we will **train** him with **Generated images**\n",
        "  * **Update** Discriminator parameters. \n",
        "* Secondly: We will **train** the Generator and update theses parameters.\n",
        "  * We will **generate fake images** from the generator\n",
        "  * We will **pass this fake images throw the discriminator** and finally **update** the Generator losses\n",
        "  * **Note** : The aimed label of our generator is always 1 beceause we want 100% of sucess when we generate images. \n",
        "\n"
      ]
    },
    {
      "cell_type": "code",
      "metadata": {
        "id": "qoc06Y_pT0qF",
        "colab_type": "code",
        "outputId": "1d1ff727-44b5-46a9-b6eb-781b5e15ef7c",
        "colab": {
          "base_uri": "https://localhost:8080/",
          "height": 1000
        }
      },
      "source": [
        "for epoch in range(EPOCHS):\n",
        "  for i, batch in enumerate(dataloader_mnist_train):\n",
        "    ############################\n",
        "    # (1) Update D network: try to maximize log(D(x)) + log(1 - D(G(z)))\n",
        "    ############################\n",
        "    # Train with real images\n",
        "    dis.zero_grad()                                                                         # Reset our gradients.\n",
        "    real_batch = batch[0].reshape((batch[0].shape[0], -1 )).to(device)                      # Reshape all images to fit our network inputs.\n",
        "    true_label = torch.ones((real_batch.shape[0])).to(device)                               # Get our expected outputs.\n",
        "    dis_output = dis(real_batch).view(-1)                                                  \n",
        "    err_dis_real = loss_func(dis_output, true_label)                                        # Get the loss of our predictions.\n",
        "    err_dis_real.backward()                                                                 # Back propagation, \n",
        "    d_x = dis_output.mean().item()                                                          # Take the mean of all prediction in a given batch.\n",
        "\n",
        "    # Secondly, we train with fake images, \n",
        "    noises = torch.randn( BATCH_SIZE, NZ, device=device )                                   # The noise tensors will be our Generator inputs.\n",
        "    fake_label = torch.zeros((BATCH_SIZE))                                                  # Fake label for the discriminator, so this part won't want that, so it's 0.\n",
        "\n",
        "    fake_output = gen(noises)                                                               # Generate few images with the Generator                          \n",
        "    dis_output = dis(fake_output).view(-1)                                                  # Give these  fake images to the discriminator\n",
        "\n",
        "    dis_err_fake = loss_func( dis_output.to(device), fake_label.to(device) )                                      # Compare prédictions to excpeted label ( in this line: 0)\n",
        "    dis_err_fake.backward()                                                                 \n",
        "    err_d = err_dis_real + dis_err_fake                                                     # We add these two losses to display the general Discriminator loss later\n",
        "    d_g_x = dis_err_fake.item()                                                             # Take the confidance ratio of D(G(x)) \n",
        "    dis_optim.step()\n",
        "\n",
        "    ############################\n",
        "    # (2) Update G network: maximize log(D(G(z)))\n",
        "    ############################\n",
        "    gen.zero_grad()\n",
        "    noises = torch.randn( (BATCH_SIZE,100 ) )                                               # Make some noise tensors \n",
        "    gen_label = torch.ones( (BATCH_SIZE) )                                                  # Get Genrator excpeted label, in this case it's 1 beacause, the Generator,\n",
        "                                                                                            # want to get a 1 (real image) prédiction from our discriminator.\n",
        "    \n",
        "    fake_images = gen(noises.to(device))                                                               # Generate some fake images.                                                       \n",
        "    diss_output = dis(fake_images).view(-1)                                                 # Give these image to our discriminator\n",
        "    gen_loss = loss_func(diss_output.to(device), gen_label.to(device))                                            # Compute the loss fonction (remember what I said above ;) )\n",
        "    gen_loss.backward()\n",
        "    gen_optim.step()\n",
        "\n",
        "    if (i % PRINTING_STEP) == 0:\n",
        "      print(\"[{}/{}] D_loss : {}; G_loss: {}; D(x): {}; D(G(x)): {})\".format(\n",
        "          i, len(dataloader_mnist_train), err_d.item(), gen_loss.item(), d_x, d_g_x))\n",
        "      plot_img( fake_images.cpu().view(BATCH_SIZE, 28, 28) )\n",
        "      plt.show()\n",
        "\n",
        "\n",
        "\n",
        "\n",
        "\n",
        "      \n",
        "\n"
      ],
      "execution_count": 14,
      "outputs": [
        {
          "output_type": "stream",
          "text": [
            "[0/938] D_loss : 1.3707659244537354; G_loss: 0.42556101083755493; D(x): 0.7501940727233887; D(G(x)): 1.0808966159820557)\n"
          ],
          "name": "stdout"
        },
        {
          "output_type": "display_data",
          "data": {
            "image/png": "[encoded data removed]",
            "text/plain": [
              "<Figure size 432x288 with 3 Axes>"
            ]
          },
          "metadata": {
            "tags": []
          }
        },
        {
          "output_type": "stream",
          "text": [
            "[100/938] D_loss : 0.3328453302383423; G_loss: 4.7691755294799805; D(x): 0.7750483751296997; D(G(x)): 0.07528555393218994)\n"
          ],
          "name": "stdout"
        },
        {
          "output_type": "display_data",
          "data": {
            "image/png": "[encoded data removed]",
            "text/plain": [
              "<Figure size 432x288 with 3 Axes>"
            ]
          },
          "metadata": {
            "tags": []
          }
        },
        {
          "output_type": "stream",
          "text": [
            "[200/938] D_loss : 1.3511135578155518; G_loss: 0.8149498701095581; D(x): 0.45260435342788696; D(G(x)): 0.557094156742096)\n"
          ],
          "name": "stdout"
        },
        {
          "output_type": "display_data",
          "data": {
            "image/png": "[encoded data removed]",
            "text/plain": [
              "<Figure size 432x288 with 3 Axes>"
            ]
          },
          "metadata": {
            "tags": []
          }
        },
        {
          "output_type": "stream",
          "text": [
            "[300/938] D_loss : 0.8742818832397461; G_loss: 1.5158324241638184; D(x): 0.5020338296890259; D(G(x)): 0.18453529477119446)\n"
          ],
          "name": "stdout"
        },
        {
          "output_type": "display_data",
          "data": {
            "image/png": "[encoded data removed]",
            "text/plain": [
              "<Figure size 432x288 with 3 Axes>"
            ]
          },
          "metadata": {
            "tags": []
          }
        },
        {
          "output_type": "stream",
          "text": [
            "[400/938] D_loss : 1.7817716598510742; G_loss: 1.791335105895996; D(x): 0.5973946452140808; D(G(x)): 0.9715304970741272)\n"
          ],
          "name": "stdout"
        },
        {
          "output_type": "display_data",
          "data": {
            "image/png": "[encoded data removed]",
            "text/plain": [
              "<Figure size 432x288 with 3 Axes>"
            ]
          },
          "metadata": {
            "tags": []
          }
        },
        {
          "output_type": "stream",
          "text": [
            "[500/938] D_loss : 1.437704086303711; G_loss: 1.0333187580108643; D(x): 0.6965303421020508; D(G(x)): 0.699808657169342)\n"
          ],
          "name": "stdout"
        },
        {
          "output_type": "display_data",
          "data": {
            "image/png": "[encoded data removed]",
            "text/plain": [
              "<Figure size 432x288 with 3 Axes>"
            ]
          },
          "metadata": {
            "tags": []
          }
        },
        {
          "output_type": "stream",
          "text": [
            "[600/938] D_loss : 2.3639466762542725; G_loss: 1.5466053485870361; D(x): 0.17014417052268982; D(G(x)): 0.1780025064945221)\n"
          ],
          "name": "stdout"
        },
        {
          "output_type": "display_data",
          "data": {
            "image/png": "[encoded data removed]",
            "text/plain": [
              "<Figure size 432x288 with 3 Axes>"
            ]
          },
          "metadata": {
            "tags": []
          }
        },
        {
          "output_type": "stream",
          "text": [
            "[700/938] D_loss : 0.4327031373977661; G_loss: 1.126401662826538; D(x): 0.99184250831604; D(G(x)): 0.42307496070861816)\n"
          ],
          "name": "stdout"
        },
        {
          "output_type": "display_data",
          "data": {
            "image/png": "[encoded data removed]",
            "text/plain": [
              "<Figure size 432x288 with 3 Axes>"
            ]
          },
          "metadata": {
            "tags": []
          }
        },
        {
          "output_type": "stream",
          "text": [
            "[800/938] D_loss : 0.38454800844192505; G_loss: 1.343163251876831; D(x): 0.9999185800552368; D(G(x)): 0.38446640968322754)\n"
          ],
          "name": "stdout"
        },
        {
          "output_type": "display_data",
          "data": {
            "image/png": "[encoded data removed]",
            "text/plain": [
              "<Figure size 432x288 with 3 Axes>"
            ]
          },
          "metadata": {
            "tags": []
          }
        },
        {
          "output_type": "stream",
          "text": [
            "[900/938] D_loss : 0.315571129322052; G_loss: 2.526628017425537; D(x): 0.9611568450927734; D(G(x)): 0.2227470576763153)\n"
          ],
          "name": "stdout"
        },
        {
          "output_type": "display_data",
          "data": {
            "image/png": "[encoded data removed]",
            "text/plain": [
              "<Figure size 432x288 with 3 Axes>"
            ]
          },
          "metadata": {
            "tags": []
          }
        },
        {
          "output_type": "stream",
          "text": [
            "[0/938] D_loss : 3.1679186820983887; G_loss: 2.116814374923706; D(x): 0.13535065948963165; D(G(x)): 0.24777889251708984)\n"
          ],
          "name": "stdout"
        },
        {
          "output_type": "display_data",
          "data": {
            "image/png": "[encoded data removed]",
            "text/plain": [
              "<Figure size 432x288 with 3 Axes>"
            ]
          },
          "metadata": {
            "tags": []
          }
        },
        {
          "output_type": "stream",
          "text": [
            "[100/938] D_loss : 0.06391710042953491; G_loss: 2.799708843231201; D(x): 1.0; D(G(x)): 0.06391710042953491)\n"
          ],
          "name": "stdout"
        },
        {
          "output_type": "display_data",
          "data": {
            "image/png": "[encoded data removed]",
            "text/plain": [
              "<Figure size 432x288 with 3 Axes>"
            ]
          },
          "metadata": {
            "tags": []
          }
        },
        {
          "output_type": "stream",
          "text": [
            "[200/938] D_loss : 0.5296774506568909; G_loss: 2.918562173843384; D(x): 0.8316333293914795; D(G(x)): 0.07549537718296051)\n"
          ],
          "name": "stdout"
        },
        {
          "output_type": "display_data",
          "data": {
            "image/png": "[encoded data removed]",
            "text/plain": [
              "<Figure size 432x288 with 3 Axes>"
            ]
          },
          "metadata": {
            "tags": []
          }
        },
        {
          "output_type": "stream",
          "text": [
            "[300/938] D_loss : 0.5506336688995361; G_loss: 1.0284734964370728; D(x): 0.9566543698310852; D(G(x)): 0.49009963870048523)\n"
          ],
          "name": "stdout"
        },
        {
          "output_type": "display_data",
          "data": {
            "image/png": "[encoded data removed]",
            "text/plain": [
              "<Figure size 432x288 with 3 Axes>"
            ]
          },
          "metadata": {
            "tags": []
          }
        },
        {
          "output_type": "stream",
          "text": [
            "[400/938] D_loss : 0.672215461730957; G_loss: 1.5667150020599365; D(x): 0.8285448551177979; D(G(x)): 0.3370608389377594)\n"
          ],
          "name": "stdout"
        },
        {
          "output_type": "display_data",
          "data": {
            "image/png": "[encoded data removed]",
            "text/plain": [
              "<Figure size 432x288 with 3 Axes>"
            ]
          },
          "metadata": {
            "tags": []
          }
        },
        {
          "output_type": "stream",
          "text": [
            "[500/938] D_loss : 0.7974567413330078; G_loss: 2.505972146987915; D(x): 0.6639604568481445; D(G(x)): 0.2835749387741089)\n"
          ],
          "name": "stdout"
        },
        {
          "output_type": "display_data",
          "data": {
            "image/png": "[encoded data removed]",
            "text/plain": [
              "<Figure size 432x288 with 3 Axes>"
            ]
          },
          "metadata": {
            "tags": []
          }
        },
        {
          "output_type": "stream",
          "text": [
            "[600/938] D_loss : 1.445723295211792; G_loss: 0.9355258941650391; D(x): 0.4115164279937744; D(G(x)): 0.5570966005325317)\n"
          ],
          "name": "stdout"
        },
        {
          "output_type": "display_data",
          "data": {
            "image/png": "[encoded data removed]",
            "text/plain": [
              "<Figure size 432x288 with 3 Axes>"
            ]
          },
          "metadata": {
            "tags": []
          }
        },
        {
          "output_type": "stream",
          "text": [
            "[700/938] D_loss : 0.20946954190731049; G_loss: 3.0473573207855225; D(x): 0.9982998967170715; D(G(x)): 0.20770923793315887)\n"
          ],
          "name": "stdout"
        },
        {
          "output_type": "display_data",
          "data": {
            "image/png": "[encoded data removed]",
            "text/plain": [
              "<Figure size 432x288 with 3 Axes>"
            ]
          },
          "metadata": {
            "tags": []
          }
        },
        {
          "output_type": "stream",
          "text": [
            "[800/938] D_loss : 0.057002343237400055; G_loss: 3.8376669883728027; D(x): 0.9999935626983643; D(G(x)): 0.056995853781700134)\n"
          ],
          "name": "stdout"
        },
        {
          "output_type": "display_data",
          "data": {
            "image/png": "[encoded data removed]",
            "text/plain": [
              "<Figure size 432x288 with 3 Axes>"
            ]
          },
          "metadata": {
            "tags": []
          }
        },
        {
          "output_type": "stream",
          "text": [
            "[900/938] D_loss : 0.614504337310791; G_loss: 6.633886814117432; D(x): 0.8135898113250732; D(G(x)): 0.004504087381064892)\n"
          ],
          "name": "stdout"
        },
        {
          "output_type": "display_data",
          "data": {
            "image/png": "[encoded data removed]",
            "text/plain": [
              "<Figure size 432x288 with 3 Axes>"
            ]
          },
          "metadata": {
            "tags": []
          }
        },
        {
          "output_type": "stream",
          "text": [
            "[0/938] D_loss : 1.3573533296585083; G_loss: 4.017996788024902; D(x): 0.8080546855926514; D(G(x)): 0.789053201675415)\n"
          ],
          "name": "stdout"
        },
        {
          "output_type": "display_data",
          "data": {
            "image/png": "[encoded data removed]",
            "text/plain": [
              "<Figure size 432x288 with 3 Axes>"
            ]
          },
          "metadata": {
            "tags": []
          }
        },
        {
          "output_type": "stream",
          "text": [
            "[100/938] D_loss : 0.6075245141983032; G_loss: 4.447491645812988; D(x): 0.8814469575881958; D(G(x)): 0.13404440879821777)\n"
          ],
          "name": "stdout"
        },
        {
          "output_type": "display_data",
          "data": {
            "image/png": "[encoded data removed]",
            "text/plain": [
              "<Figure size 432x288 with 3 Axes>"
            ]
          },
          "metadata": {
            "tags": []
          }
        },
        {
          "output_type": "stream",
          "text": [
            "[200/938] D_loss : 1.0507657527923584; G_loss: 1.1342355012893677; D(x): 0.6349273920059204; D(G(x)): 0.4352390170097351)\n"
          ],
          "name": "stdout"
        },
        {
          "output_type": "display_data",
          "data": {
            "image/png": "[encoded data removed]",
            "text/plain": [
              "<Figure size 432x288 with 3 Axes>"
            ]
          },
          "metadata": {
            "tags": []
          }
        },
        {
          "output_type": "stream",
          "text": [
            "[300/938] D_loss : 0.019579894840717316; G_loss: 5.06807279586792; D(x): 0.9949841499328613; D(G(x)): 0.014128088019788265)\n"
          ],
          "name": "stdout"
        },
        {
          "output_type": "display_data",
          "data": {
            "image/png": "[encoded data removed]",
            "text/plain": [
              "<Figure size 432x288 with 3 Axes>"
            ]
          },
          "metadata": {
            "tags": []
          }
        },
        {
          "output_type": "stream",
          "text": [
            "[400/938] D_loss : 0.9669763445854187; G_loss: 1.585580825805664; D(x): 0.5648339986801147; D(G(x)): 0.3144301772117615)\n"
          ],
          "name": "stdout"
        },
        {
          "output_type": "display_data",
          "data": {
            "image/png": "[encoded data removed]",
            "text/plain": [
              "<Figure size 432x288 with 3 Axes>"
            ]
          },
          "metadata": {
            "tags": []
          }
        },
        {
          "output_type": "stream",
          "text": [
            "[500/938] D_loss : 0.46628808975219727; G_loss: 3.235185146331787; D(x): 0.8967469930648804; D(G(x)): 0.2843448519706726)\n"
          ],
          "name": "stdout"
        },
        {
          "output_type": "display_data",
          "data": {
            "image/png": "[encoded data removed]",
            "text/plain": [
              "<Figure size 432x288 with 3 Axes>"
            ]
          },
          "metadata": {
            "tags": []
          }
        },
        {
          "output_type": "stream",
          "text": [
            "[600/938] D_loss : 0.008404352702200413; G_loss: 4.759884357452393; D(x): 0.9999465942382812; D(G(x)): 0.008350861258804798)\n"
          ],
          "name": "stdout"
        },
        {
          "output_type": "display_data",
          "data": {
            "image/png": "[encoded data removed]",
            "text/plain": [
              "<Figure size 432x288 with 3 Axes>"
            ]
          },
          "metadata": {
            "tags": []
          }
        },
        {
          "output_type": "stream",
          "text": [
            "[700/938] D_loss : 6.028957366943359; G_loss: 48.07036590576172; D(x): 0.0514376163482666; D(G(x)): 0.0)\n"
          ],
          "name": "stdout"
        },
        {
          "output_type": "display_data",
          "data": {
            "image/png": "[encoded data removed]",
            "text/plain": [
              "<Figure size 432x288 with 3 Axes>"
            ]
          },
          "metadata": {
            "tags": []
          }
        },
        {
          "output_type": "stream",
          "text": [
            "[800/938] D_loss : 0.3892361521720886; G_loss: 3.4892265796661377; D(x): 0.8528528213500977; D(G(x)): 0.12177668511867523)\n"
          ],
          "name": "stdout"
        },
        {
          "output_type": "display_data",
          "data": {
            "image/png": "[encoded data removed]",
            "text/plain": [
              "<Figure size 432x288 with 3 Axes>"
            ]
          },
          "metadata": {
            "tags": []
          }
        },
        {
          "output_type": "stream",
          "text": [
            "[900/938] D_loss : 1.0191872119903564; G_loss: 3.694791555404663; D(x): 0.6210212707519531; D(G(x)): 0.1724274903535843)\n"
          ],
          "name": "stdout"
        },
        {
          "output_type": "display_data",
          "data": {
            "image/png": "[encoded data removed]",
            "text/plain": [
              "<Figure size 432x288 with 3 Axes>"
            ]
          },
          "metadata": {
            "tags": []
          }
        }
      ]
    },
    {
      "cell_type": "code",
      "metadata": {
        "id": "adD1J1FXVRT9",
        "colab_type": "code",
        "colab": {}
      },
      "source": [
        ""
      ],
      "execution_count": 0,
      "outputs": []
    }
  ]
}